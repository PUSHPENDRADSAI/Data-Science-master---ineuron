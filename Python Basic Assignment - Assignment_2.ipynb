{
 "cells": [
  {
   "cell_type": "markdown",
   "id": "eddca120",
   "metadata": {},
   "source": [
    "    1.What are the two values of the Boolean data type? How do you write them?"
   ]
  },
  {
   "cell_type": "code",
   "execution_count": null,
   "id": "95f8a25b",
   "metadata": {},
   "outputs": [],
   "source": [
    "# Boolean :  Boolean represent True or False. During comparison we get results in boolean.\n",
    "r = True\n",
    "s = False\n",
    "t = 10>5\n",
    "\n",
    "print('Type of r: ', type(r))\n",
    "print('Type of s: ', type(s))\n",
    "print('Type of t: ', type(t))\n"
   ]
  },
  {
   "cell_type": "markdown",
   "id": "38ada50a",
   "metadata": {},
   "source": [
    "    2. What are the three different types of Boolean operators?"
   ]
  },
  {
   "cell_type": "code",
   "execution_count": null,
   "id": "16568330",
   "metadata": {},
   "outputs": [],
   "source": [
    "# The three basic boolean operators are: AND, OR, and NOT."
   ]
  },
  {
   "cell_type": "markdown",
   "id": "afa87c58",
   "metadata": {},
   "source": [
    "    3. Make a list of each Boolean operator's truth tables (i.e. every possible combination of Boolean values for the operator and what it evaluate )."
   ]
  },
  {
   "cell_type": "code",
   "execution_count": null,
   "id": "27b240a2",
   "metadata": {},
   "outputs": [],
   "source": [
    "'''\n",
    "\n",
    "Truth table for AND\n",
    "Input_A    Input_B      Output\n",
    "\n",
    "True       True         True\n",
    "True       False        False\n",
    "False      True         False\n",
    "False      False        False\n",
    "\n",
    "\n",
    "Truth table for OR\n",
    "Input_A    Input_B      Output\n",
    "True       True         True\n",
    "True       False        True\n",
    "False      True         True\n",
    "False      False        False\n",
    "\n",
    "\n",
    "Truth table for NOT\n",
    "Input_A                 Output\n",
    "True                    False\n",
    "False                    True\n",
    "\n",
    "'''"
   ]
  },
  {
   "cell_type": "markdown",
   "id": "8afa77c2",
   "metadata": {},
   "source": [
    "    4. What are the values of the following expressions?\n",
    "\n",
    "(5 > 4) and (3 == 5)\n",
    "\n",
    "not (5 > 4)\n",
    "\n",
    "(5 > 4) or (3 == 5)\n",
    "\n",
    "not ((5 > 4) or (3 == 5))\n",
    "\n",
    "(True and True) and (True == False)\n",
    "\n",
    "(not False) or (not True)\n"
   ]
  },
  {
   "cell_type": "code",
   "execution_count": null,
   "id": "c164ec4e",
   "metadata": {},
   "outputs": [],
   "source": [
    "print((5 > 4) and (3 == 5))   # Result will be False\n",
    "\n",
    "print(not (5 > 4))            # Result will be False\n",
    "\n",
    "print((5 > 4) or (3 == 5))    # Result will be True\n",
    "\n",
    "print(not ((5 > 4) or (3 == 5)))  # Resulat will be False\n",
    "\n",
    "\n",
    "print((True and True) and (True == False))   # Result will be False\n",
    "\n",
    "print((not False) or (not True))            # Result will be True"
   ]
  },
  {
   "cell_type": "markdown",
   "id": "d836c266",
   "metadata": {},
   "source": [
    "    5. What are the six comparison operators?"
   ]
  },
  {
   "cell_type": "markdown",
   "id": "a5242dac",
   "metadata": {},
   "source": [
    "    Equal to                      ==\n",
    "\n",
    "    Less than                     <\n",
    "\n",
    "    Less than or equal to         <=\n",
    "\n",
    "    Greater than                  >\n",
    "\n",
    "    Grater than or equal to       >=\n",
    "\n",
    "    Not equal to                  !="
   ]
  },
  {
   "cell_type": "markdown",
   "id": "5be48768",
   "metadata": {},
   "source": [
    "    6. How do you tell the difference between the equal to and assignment operators?Describe a condition and when you would use one.\n"
   ]
  },
  {
   "cell_type": "code",
   "execution_count": null,
   "id": "f584ffc1",
   "metadata": {},
   "outputs": [],
   "source": [
    "# Assignment operator is eual sign (=) \n",
    "# Fpr equality we use double equal sign ==\n",
    "\n",
    "x = 100 # here value 100 assign to x\n",
    "y = 10  # here value 10 assign to y\n",
    "\n",
    "print(x ==y)  # here we are checking whethere x is equal to y or not\n",
    "print(x)\n",
    "print(y)"
   ]
  },
  {
   "cell_type": "markdown",
   "id": "cdff71f8",
   "metadata": {},
   "source": [
    "    7. Identify the three blocks in this code:\n",
    "    spam = 0\n",
    "    if spam == 10:\n",
    "    print('eggs')\n",
    "    if spam > 5:\n",
    "    print('bacon')\n",
    "    else:\n",
    "    print('ham')\n",
    "    print('spam')\n",
    "    print('spam')\n",
    "\n"
   ]
  },
  {
   "cell_type": "code",
   "execution_count": null,
   "id": "0bc26667",
   "metadata": {},
   "outputs": [],
   "source": [
    "# we get ham spam spam as an output as spam = o and it's neither eqal to 10 nor grater than 5.\n",
    "# Therefore else block is going to execute \n",
    "\n",
    "spam = 0\n",
    "if spam == 10:\n",
    "    print('eggs')\n",
    "if spam > 5:\n",
    "    print('bacon')\n",
    "else:\n",
    "    print('ham')\n",
    "    print('spam')\n",
    "    print('spam')"
   ]
  },
  {
   "cell_type": "markdown",
   "id": "a8a6e525",
   "metadata": {},
   "source": [
    "    8. Write code that prints Hello if 1 is stored in spam, prints Howdy if 2 is stored in spam, and prints Greetings! if anything else is stored in spam."
   ]
  },
  {
   "cell_type": "code",
   "execution_count": 2,
   "id": "1504b777",
   "metadata": {},
   "outputs": [
    {
     "name": "stdout",
     "output_type": "stream",
     "text": [
      "Hello!\n"
     ]
    }
   ],
   "source": [
    "spam = 1\n",
    "\n",
    "if spam == 1:\n",
    "    print(\"Hello!\")\n",
    "    \n",
    "elif spam == 2:\n",
    "    print(\"Howdy\")\n",
    "    \n",
    "else:\n",
    "    print(\"Greetings!\")"
   ]
  },
  {
   "cell_type": "markdown",
   "id": "3b19ce2e",
   "metadata": {},
   "source": [
    "    9.If your programme is stuck in an endless loop, what keys you’ll press?"
   ]
  },
  {
   "cell_type": "code",
   "execution_count": null,
   "id": "69282a35",
   "metadata": {},
   "outputs": [],
   "source": [
    "# Press \"Control + C\" in jupyter terminal to stop execution \n",
    "\n"
   ]
  },
  {
   "cell_type": "markdown",
   "id": "4c8cbbaa",
   "metadata": {},
   "source": [
    "    10. How can you tell the difference between break and continue?"
   ]
  },
  {
   "cell_type": "markdown",
   "id": "ce01a3e4",
   "metadata": {},
   "source": [
    "    Both break and continue statements can be used in a for or a while loop.\n",
    "    Break : Will end the loop \n",
    "    Continue : Will skip existing condition and jump into next condition"
   ]
  },
  {
   "cell_type": "code",
   "execution_count": 2,
   "id": "037fccb9",
   "metadata": {},
   "outputs": [
    {
     "name": "stdout",
     "output_type": "stream",
     "text": [
      "0\n",
      "1\n",
      "2\n",
      "3\n",
      "4\n"
     ]
    }
   ],
   "source": [
    "x = range(11)\n",
    "\n",
    "for i in x:\n",
    "    if i ==5:\n",
    "        break\n",
    "    print(i)"
   ]
  },
  {
   "cell_type": "code",
   "execution_count": 3,
   "id": "59834db1",
   "metadata": {},
   "outputs": [
    {
     "name": "stdout",
     "output_type": "stream",
     "text": [
      "0\n",
      "1\n",
      "2\n",
      "3\n",
      "4\n",
      "6\n",
      "7\n",
      "8\n",
      "9\n",
      "10\n"
     ]
    }
   ],
   "source": [
    "x = range(11)\n",
    "\n",
    "for i in x:\n",
    "    if i ==5:\n",
    "        continue\n",
    "    print(i)"
   ]
  },
  {
   "cell_type": "markdown",
   "id": "9c76e3da",
   "metadata": {},
   "source": [
    "    11. In a for loop, what is the difference between range(10), range(0, 10), and range(0, 10, 1)?"
   ]
  },
  {
   "cell_type": "code",
   "execution_count": 5,
   "id": "bf26ca7f",
   "metadata": {},
   "outputs": [
    {
     "name": "stdout",
     "output_type": "stream",
     "text": [
      "range(0, 10)\n",
      "\n",
      "range(0, 10)\n",
      "\n",
      "range(0, 10)\n"
     ]
    }
   ],
   "source": [
    "# all produces same result \n",
    "\n",
    "print(range(10))\n",
    "\n",
    "print()\n",
    "\n",
    "print(range(0,10))\n",
    "\n",
    "print()\n",
    "\n",
    "print(range(0,10,1))"
   ]
  },
  {
   "cell_type": "markdown",
   "id": "d3a53046",
   "metadata": {},
   "source": [
    "    12. Write a short program that prints the numbers 1 to 10 using a for loop. Then write an equivalent program that prints the numbers 1 to 10 using a while loop."
   ]
  },
  {
   "cell_type": "code",
   "execution_count": 11,
   "id": "ccebd6d9",
   "metadata": {},
   "outputs": [
    {
     "name": "stdout",
     "output_type": "stream",
     "text": [
      "0 1 2 3 4 5 6 7 8 9 10 \n",
      "0 1 2 3 4 5 6 7 8 9 10 "
     ]
    }
   ],
   "source": [
    "# Code for  printing numbers from 1 to 10 with for loop:\n",
    "\n",
    "for i in range(11):\n",
    "    print(i, end=\" \")\n",
    "    \n",
    "print()\n",
    "\n",
    "\n",
    "# Code for  printing numbers from 1 to 10 with while loop:\n",
    "a = 0\n",
    "\n",
    "while a <=10:\n",
    "    print(a, end=\" \")\n",
    "    a = a + 1"
   ]
  },
  {
   "cell_type": "markdown",
   "id": "087c9e44",
   "metadata": {},
   "source": [
    "    13. If you had a function named bacon() inside a module named spam, how would you call it after importing spam?"
   ]
  },
  {
   "cell_type": "code",
   "execution_count": null,
   "id": "a3d37ef8",
   "metadata": {},
   "outputs": [],
   "source": []
  }
 ],
 "metadata": {
  "kernelspec": {
   "display_name": "Python 3",
   "language": "python",
   "name": "python3"
  },
  "language_info": {
   "codemirror_mode": {
    "name": "ipython",
    "version": 3
   },
   "file_extension": ".py",
   "mimetype": "text/x-python",
   "name": "python",
   "nbconvert_exporter": "python",
   "pygments_lexer": "ipython3",
   "version": "3.8.8"
  }
 },
 "nbformat": 4,
 "nbformat_minor": 5
}
